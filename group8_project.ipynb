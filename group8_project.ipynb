{
 "cells": [
  {
   "cell_type": "markdown",
   "metadata": {},
   "source": [
    "\n",
    "#### The Yelp dataset includes information from more than 1.1 million authenticated users who reviewed businesses in twelve urban areas and four countries over more than ten years. \n",
    "\n",
    "\n",
    "* The value of our research\n",
    "\n",
    "It has long been a common notion that popular Yelp users have influence over businesses. We wanted to find out whether this notion is true, and what characteristics those users have. Although our findings are only applicable to Yelp users and the businesses on Yelp since we only used Yelp’s dataset, our research is valuable because Yelp has a huge user base: average monthly unique Yelp visitors reached 145 million by March 2016.\n"
   ]
  },
  {
   "cell_type": "markdown",
   "metadata": {},
   "source": [
    "* First, let's connect to the database and import some packages that we need for further analysis."
   ]
  },
  {
   "cell_type": "code",
   "execution_count": 2,
   "metadata": {
    "collapsed": true,
    "scrolled": true
   },
   "outputs": [],
   "source": [
    "import pymysql as myDB\n",
    "\n",
    "db = myDB.connect(host='localhost', user='root', passwd='123456', db = 'yelp_db')\n",
    "cur = db.cursor()"
   ]
  },
  {
   "cell_type": "code",
   "execution_count": 5,
   "metadata": {
    "collapsed": true
   },
   "outputs": [],
   "source": [
    "import pandas as pd"
   ]
  },
  {
   "cell_type": "code",
   "execution_count": 4,
   "metadata": {
    "collapsed": true
   },
   "outputs": [],
   "source": [
    "import matplotlib.pyplot as plt\n",
    "import numpy as np\n",
    "%matplotlib inline"
   ]
  },
  {
   "cell_type": "markdown",
   "metadata": {},
   "source": [
    "* Let us have a first look on the data."
   ]
  },
  {
   "cell_type": "code",
   "execution_count": 14,
   "metadata": {},
   "outputs": [
    {
     "data": {
      "text/plain": [
       "(('attribute',),\n",
       " ('business',),\n",
       " ('business_popular',),\n",
       " ('category',),\n",
       " ('checkin',),\n",
       " ('elite_years',),\n",
       " ('friend',),\n",
       " ('hours',),\n",
       " ('photo',),\n",
       " ('review',),\n",
       " ('tip',),\n",
       " ('user',))"
      ]
     },
     "execution_count": 14,
     "metadata": {},
     "output_type": "execute_result"
    }
   ],
   "source": [
    "sql = ' SHOW TABLES; '\n",
    "cur.execute(sql)\n",
    "cur.fetchall()"
   ]
  },
  {
   "cell_type": "code",
   "execution_count": 40,
   "metadata": {},
   "outputs": [
    {
     "data": {
      "text/html": [
       "<div>\n",
       "<style>\n",
       "    .dataframe thead tr:only-child th {\n",
       "        text-align: right;\n",
       "    }\n",
       "\n",
       "    .dataframe thead th {\n",
       "        text-align: left;\n",
       "    }\n",
       "\n",
       "    .dataframe tbody tr th {\n",
       "        vertical-align: top;\n",
       "    }\n",
       "</style>\n",
       "<table border=\"1\" class=\"dataframe\">\n",
       "  <thead>\n",
       "    <tr style=\"text-align: right;\">\n",
       "      <th></th>\n",
       "      <th>id</th>\n",
       "      <th>name</th>\n",
       "      <th>neighborhood</th>\n",
       "      <th>address</th>\n",
       "      <th>city</th>\n",
       "      <th>state</th>\n",
       "      <th>postal_code</th>\n",
       "      <th>latitude</th>\n",
       "      <th>longitude</th>\n",
       "      <th>stars</th>\n",
       "      <th>review_count</th>\n",
       "      <th>is_open</th>\n",
       "    </tr>\n",
       "  </thead>\n",
       "  <tbody>\n",
       "    <tr>\n",
       "      <th>0</th>\n",
       "      <td>--6MefnULPED_I942VcFNA</td>\n",
       "      <td>John's Chinese BBQ Restaurant</td>\n",
       "      <td></td>\n",
       "      <td>328 Highway 7 E, Chalmers Gate 11, Unit 10</td>\n",
       "      <td>Richmond Hill</td>\n",
       "      <td>ON</td>\n",
       "      <td>L4B 3P7</td>\n",
       "      <td>43.8409</td>\n",
       "      <td>-79.3996</td>\n",
       "      <td>3.0</td>\n",
       "      <td>30</td>\n",
       "      <td>1</td>\n",
       "    </tr>\n",
       "    <tr>\n",
       "      <th>1</th>\n",
       "      <td>--7zmmkVg-IMGaXbuVd0SQ</td>\n",
       "      <td>Primal Brewery</td>\n",
       "      <td></td>\n",
       "      <td>16432 Old Statesville Rd</td>\n",
       "      <td>Huntersville</td>\n",
       "      <td>NC</td>\n",
       "      <td>28078</td>\n",
       "      <td>35.4371</td>\n",
       "      <td>-80.8437</td>\n",
       "      <td>4.0</td>\n",
       "      <td>42</td>\n",
       "      <td>1</td>\n",
       "    </tr>\n",
       "    <tr>\n",
       "      <th>2</th>\n",
       "      <td>--8LPVSo5i0Oo61X01sV9A</td>\n",
       "      <td>Valley Bone and Joint Specialists</td>\n",
       "      <td></td>\n",
       "      <td>3941 E Baseline Rd, Ste 102</td>\n",
       "      <td>Gilbert</td>\n",
       "      <td>AZ</td>\n",
       "      <td>85234</td>\n",
       "      <td>33.3795</td>\n",
       "      <td>-111.7280</td>\n",
       "      <td>4.5</td>\n",
       "      <td>3</td>\n",
       "      <td>1</td>\n",
       "    </tr>\n",
       "    <tr>\n",
       "      <th>3</th>\n",
       "      <td>--9e1ONYQuAa-CB_Rrw7Tw</td>\n",
       "      <td>Delmonico Steakhouse</td>\n",
       "      <td>The Strip</td>\n",
       "      <td>3355 Las Vegas Blvd S</td>\n",
       "      <td>Las Vegas</td>\n",
       "      <td>NV</td>\n",
       "      <td>89109</td>\n",
       "      <td>36.1232</td>\n",
       "      <td>-115.1690</td>\n",
       "      <td>4.0</td>\n",
       "      <td>1389</td>\n",
       "      <td>1</td>\n",
       "    </tr>\n",
       "    <tr>\n",
       "      <th>4</th>\n",
       "      <td>--9QQLMTbFzLJ_oT-ON3Xw</td>\n",
       "      <td>Great Clips</td>\n",
       "      <td></td>\n",
       "      <td>1835 E Guadalupe Rd, Ste 106</td>\n",
       "      <td>Tempe</td>\n",
       "      <td>AZ</td>\n",
       "      <td>85283</td>\n",
       "      <td>33.3617</td>\n",
       "      <td>-111.9100</td>\n",
       "      <td>3.0</td>\n",
       "      <td>9</td>\n",
       "      <td>1</td>\n",
       "    </tr>\n",
       "  </tbody>\n",
       "</table>\n",
       "</div>"
      ],
      "text/plain": [
       "                       id                               name neighborhood  \\\n",
       "0  --6MefnULPED_I942VcFNA      John's Chinese BBQ Restaurant                \n",
       "1  --7zmmkVg-IMGaXbuVd0SQ                     Primal Brewery                \n",
       "2  --8LPVSo5i0Oo61X01sV9A  Valley Bone and Joint Specialists                \n",
       "3  --9e1ONYQuAa-CB_Rrw7Tw               Delmonico Steakhouse    The Strip   \n",
       "4  --9QQLMTbFzLJ_oT-ON3Xw                        Great Clips                \n",
       "\n",
       "                                      address           city state  \\\n",
       "0  328 Highway 7 E, Chalmers Gate 11, Unit 10  Richmond Hill    ON   \n",
       "1                    16432 Old Statesville Rd   Huntersville    NC   \n",
       "2                 3941 E Baseline Rd, Ste 102        Gilbert    AZ   \n",
       "3                       3355 Las Vegas Blvd S      Las Vegas    NV   \n",
       "4                1835 E Guadalupe Rd, Ste 106          Tempe    AZ   \n",
       "\n",
       "  postal_code  latitude  longitude  stars  review_count  is_open  \n",
       "0     L4B 3P7   43.8409   -79.3996    3.0            30        1  \n",
       "1       28078   35.4371   -80.8437    4.0            42        1  \n",
       "2       85234   33.3795  -111.7280    4.5             3        1  \n",
       "3       89109   36.1232  -115.1690    4.0          1389        1  \n",
       "4       85283   33.3617  -111.9100    3.0             9        1  "
      ]
     },
     "execution_count": 40,
     "metadata": {},
     "output_type": "execute_result"
    }
   ],
   "source": [
    "business = pd.read_sql('SELECT * FROM business', con=db)\n",
    "business.head()"
   ]
  },
  {
   "cell_type": "code",
   "execution_count": 42,
   "metadata": {},
   "outputs": [
    {
     "data": {
      "text/html": [
       "<div>\n",
       "<style>\n",
       "    .dataframe thead tr:only-child th {\n",
       "        text-align: right;\n",
       "    }\n",
       "\n",
       "    .dataframe thead th {\n",
       "        text-align: left;\n",
       "    }\n",
       "\n",
       "    .dataframe tbody tr th {\n",
       "        vertical-align: top;\n",
       "    }\n",
       "</style>\n",
       "<table border=\"1\" class=\"dataframe\">\n",
       "  <thead>\n",
       "    <tr style=\"text-align: right;\">\n",
       "      <th></th>\n",
       "      <th>id</th>\n",
       "      <th>stars</th>\n",
       "      <th>date</th>\n",
       "      <th>text</th>\n",
       "      <th>useful</th>\n",
       "      <th>funny</th>\n",
       "      <th>cool</th>\n",
       "      <th>business_id</th>\n",
       "      <th>user_id</th>\n",
       "    </tr>\n",
       "  </thead>\n",
       "  <tbody>\n",
       "    <tr>\n",
       "      <th>0</th>\n",
       "      <td>----X0BIDP9tA49U3RvdSQ</td>\n",
       "      <td>4</td>\n",
       "      <td>2014-02-17</td>\n",
       "      <td>Red, white and bleu salad was super yum and a ...</td>\n",
       "      <td>0</td>\n",
       "      <td>0</td>\n",
       "      <td>0</td>\n",
       "      <td>Ue6-WhXvI-_1xUIuapl0zQ</td>\n",
       "      <td>gVmUR8rqUFdbSeZbsg6z_w</td>\n",
       "    </tr>\n",
       "    <tr>\n",
       "      <th>1</th>\n",
       "      <td>---0hl58W-sjVTKi5LghGw</td>\n",
       "      <td>4</td>\n",
       "      <td>2016-07-24</td>\n",
       "      <td>Ate the momos during the momo crawl.. Was the ...</td>\n",
       "      <td>0</td>\n",
       "      <td>0</td>\n",
       "      <td>0</td>\n",
       "      <td>Ae4ABFarGMaI5lk1i98A0w</td>\n",
       "      <td>Y6qylbHq8QJmaCRSlKdIog</td>\n",
       "    </tr>\n",
       "    <tr>\n",
       "      <th>2</th>\n",
       "      <td>---3OXpexMp0oAg77xWfYA</td>\n",
       "      <td>5</td>\n",
       "      <td>2012-04-07</td>\n",
       "      <td>Pizza here made my night... Good people and gr...</td>\n",
       "      <td>2</td>\n",
       "      <td>0</td>\n",
       "      <td>0</td>\n",
       "      <td>lKq4Qsz13FDcAVgp49uukQ</td>\n",
       "      <td>SnXZkRN9Yf060pNTk1HMDg</td>\n",
       "    </tr>\n",
       "    <tr>\n",
       "      <th>3</th>\n",
       "      <td>---65iIIGzHj96QnOh89EQ</td>\n",
       "      <td>5</td>\n",
       "      <td>2015-09-11</td>\n",
       "      <td>Great brisket sandwich as claimed. Weird that ...</td>\n",
       "      <td>0</td>\n",
       "      <td>0</td>\n",
       "      <td>0</td>\n",
       "      <td>6nKR80xEGHYf2UxAe_Cu_g</td>\n",
       "      <td>VcmSgvslHAhqWoEn16wjjw</td>\n",
       "    </tr>\n",
       "    <tr>\n",
       "      <th>4</th>\n",
       "      <td>---7WhU-FtzSUOje87Y4uw</td>\n",
       "      <td>5</td>\n",
       "      <td>2016-01-22</td>\n",
       "      <td>Interesting food, great atmosphere, and great ...</td>\n",
       "      <td>1</td>\n",
       "      <td>1</td>\n",
       "      <td>1</td>\n",
       "      <td>Z_mJYg3vi8cPZHa1J4BALw</td>\n",
       "      <td>NKF9v-r0jd1p0JVi9h2T1w</td>\n",
       "    </tr>\n",
       "  </tbody>\n",
       "</table>\n",
       "</div>"
      ],
      "text/plain": [
       "                       id  stars       date  \\\n",
       "0  ----X0BIDP9tA49U3RvdSQ      4 2014-02-17   \n",
       "1  ---0hl58W-sjVTKi5LghGw      4 2016-07-24   \n",
       "2  ---3OXpexMp0oAg77xWfYA      5 2012-04-07   \n",
       "3  ---65iIIGzHj96QnOh89EQ      5 2015-09-11   \n",
       "4  ---7WhU-FtzSUOje87Y4uw      5 2016-01-22   \n",
       "\n",
       "                                                text  useful  funny  cool  \\\n",
       "0  Red, white and bleu salad was super yum and a ...       0      0     0   \n",
       "1  Ate the momos during the momo crawl.. Was the ...       0      0     0   \n",
       "2  Pizza here made my night... Good people and gr...       2      0     0   \n",
       "3  Great brisket sandwich as claimed. Weird that ...       0      0     0   \n",
       "4  Interesting food, great atmosphere, and great ...       1      1     1   \n",
       "\n",
       "              business_id                 user_id  \n",
       "0  Ue6-WhXvI-_1xUIuapl0zQ  gVmUR8rqUFdbSeZbsg6z_w  \n",
       "1  Ae4ABFarGMaI5lk1i98A0w  Y6qylbHq8QJmaCRSlKdIog  \n",
       "2  lKq4Qsz13FDcAVgp49uukQ  SnXZkRN9Yf060pNTk1HMDg  \n",
       "3  6nKR80xEGHYf2UxAe_Cu_g  VcmSgvslHAhqWoEn16wjjw  \n",
       "4  Z_mJYg3vi8cPZHa1J4BALw  NKF9v-r0jd1p0JVi9h2T1w  "
      ]
     },
     "execution_count": 42,
     "metadata": {},
     "output_type": "execute_result"
    }
   ],
   "source": [
    "review = pd.read_sql('SELECT * FROM review', con=db)\n",
    "review.head()"
   ]
  },
  {
   "cell_type": "code",
   "execution_count": 45,
   "metadata": {},
   "outputs": [
    {
     "data": {
      "text/html": [
       "<div>\n",
       "<style>\n",
       "    .dataframe thead tr:only-child th {\n",
       "        text-align: right;\n",
       "    }\n",
       "\n",
       "    .dataframe thead th {\n",
       "        text-align: left;\n",
       "    }\n",
       "\n",
       "    .dataframe tbody tr th {\n",
       "        vertical-align: top;\n",
       "    }\n",
       "</style>\n",
       "<table border=\"1\" class=\"dataframe\">\n",
       "  <thead>\n",
       "    <tr style=\"text-align: right;\">\n",
       "      <th></th>\n",
       "      <th>business_id</th>\n",
       "      <th>date</th>\n",
       "      <th>count</th>\n",
       "    </tr>\n",
       "  </thead>\n",
       "  <tbody>\n",
       "    <tr>\n",
       "      <th>0</th>\n",
       "      <td>7KPBkxAOEtb3QeIL9PEErg</td>\n",
       "      <td>Thursday-21:00</td>\n",
       "      <td>4</td>\n",
       "    </tr>\n",
       "    <tr>\n",
       "      <th>1</th>\n",
       "      <td>7KPBkxAOEtb3QeIL9PEErg</td>\n",
       "      <td>Thursday-1:00</td>\n",
       "      <td>1</td>\n",
       "    </tr>\n",
       "    <tr>\n",
       "      <th>2</th>\n",
       "      <td>7KPBkxAOEtb3QeIL9PEErg</td>\n",
       "      <td>Thursday-4:00</td>\n",
       "      <td>1</td>\n",
       "    </tr>\n",
       "    <tr>\n",
       "      <th>3</th>\n",
       "      <td>7KPBkxAOEtb3QeIL9PEErg</td>\n",
       "      <td>Thursday-2:00</td>\n",
       "      <td>1</td>\n",
       "    </tr>\n",
       "    <tr>\n",
       "      <th>4</th>\n",
       "      <td>7KPBkxAOEtb3QeIL9PEErg</td>\n",
       "      <td>Thursday-20:00</td>\n",
       "      <td>2</td>\n",
       "    </tr>\n",
       "  </tbody>\n",
       "</table>\n",
       "</div>"
      ],
      "text/plain": [
       "              business_id            date  count\n",
       "0  7KPBkxAOEtb3QeIL9PEErg  Thursday-21:00      4\n",
       "1  7KPBkxAOEtb3QeIL9PEErg   Thursday-1:00      1\n",
       "2  7KPBkxAOEtb3QeIL9PEErg   Thursday-4:00      1\n",
       "3  7KPBkxAOEtb3QeIL9PEErg   Thursday-2:00      1\n",
       "4  7KPBkxAOEtb3QeIL9PEErg  Thursday-20:00      2"
      ]
     },
     "execution_count": 45,
     "metadata": {},
     "output_type": "execute_result"
    }
   ],
   "source": [
    "checkin = pd.read_sql('SELECT * FROM checkin', con=db)\n",
    "checkin.head()"
   ]
  },
  {
   "cell_type": "code",
   "execution_count": 48,
   "metadata": {
    "scrolled": true
   },
   "outputs": [
    {
     "data": {
      "text/html": [
       "<div>\n",
       "<style>\n",
       "    .dataframe thead tr:only-child th {\n",
       "        text-align: right;\n",
       "    }\n",
       "\n",
       "    .dataframe thead th {\n",
       "        text-align: left;\n",
       "    }\n",
       "\n",
       "    .dataframe tbody tr th {\n",
       "        vertical-align: top;\n",
       "    }\n",
       "</style>\n",
       "<table border=\"1\" class=\"dataframe\">\n",
       "  <thead>\n",
       "    <tr style=\"text-align: right;\">\n",
       "      <th></th>\n",
       "      <th>id</th>\n",
       "      <th>name</th>\n",
       "      <th>review_count</th>\n",
       "      <th>yelping_since</th>\n",
       "      <th>useful</th>\n",
       "      <th>funny</th>\n",
       "      <th>cool</th>\n",
       "      <th>fans</th>\n",
       "      <th>average_stars</th>\n",
       "      <th>compliment_hot</th>\n",
       "      <th>compliment_more</th>\n",
       "      <th>compliment_profile</th>\n",
       "      <th>compliment_cute</th>\n",
       "      <th>compliment_list</th>\n",
       "      <th>compliment_note</th>\n",
       "      <th>compliment_plain</th>\n",
       "      <th>compliment_cool</th>\n",
       "      <th>compliment_funny</th>\n",
       "      <th>compliment_writer</th>\n",
       "      <th>compliment_photos</th>\n",
       "    </tr>\n",
       "  </thead>\n",
       "  <tbody>\n",
       "    <tr>\n",
       "      <th>0</th>\n",
       "      <td>---1lKK3aKOuomHnwAkAow</td>\n",
       "      <td>Monera</td>\n",
       "      <td>245</td>\n",
       "      <td>2007-06-04</td>\n",
       "      <td>67</td>\n",
       "      <td>22</td>\n",
       "      <td>9</td>\n",
       "      <td>15</td>\n",
       "      <td>3.97</td>\n",
       "      <td>2</td>\n",
       "      <td>3</td>\n",
       "      <td>2</td>\n",
       "      <td>1</td>\n",
       "      <td>0</td>\n",
       "      <td>5</td>\n",
       "      <td>9</td>\n",
       "      <td>9</td>\n",
       "      <td>9</td>\n",
       "      <td>9</td>\n",
       "      <td>0</td>\n",
       "    </tr>\n",
       "    <tr>\n",
       "      <th>1</th>\n",
       "      <td>---94vtJ_5o_nikEs6hUjg</td>\n",
       "      <td>Joe</td>\n",
       "      <td>2</td>\n",
       "      <td>2016-05-27</td>\n",
       "      <td>0</td>\n",
       "      <td>0</td>\n",
       "      <td>0</td>\n",
       "      <td>0</td>\n",
       "      <td>5.00</td>\n",
       "      <td>0</td>\n",
       "      <td>0</td>\n",
       "      <td>0</td>\n",
       "      <td>0</td>\n",
       "      <td>0</td>\n",
       "      <td>0</td>\n",
       "      <td>0</td>\n",
       "      <td>0</td>\n",
       "      <td>0</td>\n",
       "      <td>0</td>\n",
       "      <td>0</td>\n",
       "    </tr>\n",
       "    <tr>\n",
       "      <th>2</th>\n",
       "      <td>---cu1hq55BP9DWVXXKHZg</td>\n",
       "      <td>Jeb</td>\n",
       "      <td>57</td>\n",
       "      <td>2009-04-18</td>\n",
       "      <td>34</td>\n",
       "      <td>14</td>\n",
       "      <td>0</td>\n",
       "      <td>0</td>\n",
       "      <td>3.79</td>\n",
       "      <td>0</td>\n",
       "      <td>0</td>\n",
       "      <td>0</td>\n",
       "      <td>0</td>\n",
       "      <td>0</td>\n",
       "      <td>3</td>\n",
       "      <td>2</td>\n",
       "      <td>0</td>\n",
       "      <td>0</td>\n",
       "      <td>0</td>\n",
       "      <td>0</td>\n",
       "    </tr>\n",
       "    <tr>\n",
       "      <th>3</th>\n",
       "      <td>---fhiwiwBYrvqhpXgcWDQ</td>\n",
       "      <td>Jed</td>\n",
       "      <td>8</td>\n",
       "      <td>2011-04-20</td>\n",
       "      <td>2</td>\n",
       "      <td>3</td>\n",
       "      <td>1</td>\n",
       "      <td>0</td>\n",
       "      <td>2.78</td>\n",
       "      <td>0</td>\n",
       "      <td>0</td>\n",
       "      <td>0</td>\n",
       "      <td>0</td>\n",
       "      <td>0</td>\n",
       "      <td>0</td>\n",
       "      <td>0</td>\n",
       "      <td>0</td>\n",
       "      <td>0</td>\n",
       "      <td>0</td>\n",
       "      <td>0</td>\n",
       "    </tr>\n",
       "    <tr>\n",
       "      <th>4</th>\n",
       "      <td>---PLwSf5gKdIoVnyRHgBA</td>\n",
       "      <td>Rae</td>\n",
       "      <td>2</td>\n",
       "      <td>2015-07-31</td>\n",
       "      <td>1</td>\n",
       "      <td>0</td>\n",
       "      <td>0</td>\n",
       "      <td>0</td>\n",
       "      <td>4.00</td>\n",
       "      <td>0</td>\n",
       "      <td>0</td>\n",
       "      <td>0</td>\n",
       "      <td>0</td>\n",
       "      <td>0</td>\n",
       "      <td>0</td>\n",
       "      <td>0</td>\n",
       "      <td>0</td>\n",
       "      <td>0</td>\n",
       "      <td>0</td>\n",
       "      <td>0</td>\n",
       "    </tr>\n",
       "  </tbody>\n",
       "</table>\n",
       "</div>"
      ],
      "text/plain": [
       "                       id    name  review_count yelping_since  useful  funny  \\\n",
       "0  ---1lKK3aKOuomHnwAkAow  Monera           245    2007-06-04      67     22   \n",
       "1  ---94vtJ_5o_nikEs6hUjg     Joe             2    2016-05-27       0      0   \n",
       "2  ---cu1hq55BP9DWVXXKHZg     Jeb            57    2009-04-18      34     14   \n",
       "3  ---fhiwiwBYrvqhpXgcWDQ     Jed             8    2011-04-20       2      3   \n",
       "4  ---PLwSf5gKdIoVnyRHgBA     Rae             2    2015-07-31       1      0   \n",
       "\n",
       "   cool  fans  average_stars  compliment_hot  compliment_more  \\\n",
       "0     9    15           3.97               2                3   \n",
       "1     0     0           5.00               0                0   \n",
       "2     0     0           3.79               0                0   \n",
       "3     1     0           2.78               0                0   \n",
       "4     0     0           4.00               0                0   \n",
       "\n",
       "   compliment_profile  compliment_cute  compliment_list  compliment_note  \\\n",
       "0                   2                1                0                5   \n",
       "1                   0                0                0                0   \n",
       "2                   0                0                0                3   \n",
       "3                   0                0                0                0   \n",
       "4                   0                0                0                0   \n",
       "\n",
       "   compliment_plain  compliment_cool  compliment_funny  compliment_writer  \\\n",
       "0                 9                9                 9                  9   \n",
       "1                 0                0                 0                  0   \n",
       "2                 2                0                 0                  0   \n",
       "3                 0                0                 0                  0   \n",
       "4                 0                0                 0                  0   \n",
       "\n",
       "   compliment_photos  \n",
       "0                  0  \n",
       "1                  0  \n",
       "2                  0  \n",
       "3                  0  \n",
       "4                  0  "
      ]
     },
     "execution_count": 48,
     "metadata": {},
     "output_type": "execute_result"
    }
   ],
   "source": [
    "user = pd.read_sql('SELECT * FROM user', con=db)\n",
    "user.head()"
   ]
  },
  {
   "cell_type": "markdown",
   "metadata": {},
   "source": [
    "* We employed a very simple definition of “popular user” as in the top 1% of users ranked according to the number of fans because we believed that the more fans, the higher popularity. "
   ]
  },
  {
   "cell_type": "code",
   "execution_count": 7,
   "metadata": {
    "scrolled": true
   },
   "outputs": [
    {
     "data": {
      "text/plain": [
       "score    27.0\n",
       "Name: 0.99, dtype: float64"
      ]
     },
     "execution_count": 7,
     "metadata": {},
     "output_type": "execute_result"
    }
   ],
   "source": [
    "popular_score = pd.read_sql('SELECT fans as score FROM user', con=db)\n",
    "popular_score.quantile(.99)"
   ]
  },
  {
   "cell_type": "markdown",
   "metadata": {},
   "source": [
    "* So “popular user” are those who have more than 27 fans. "
   ]
  },
  {
   "cell_type": "markdown",
   "metadata": {},
   "source": [
    "---"
   ]
  },
  {
   "cell_type": "markdown",
   "metadata": {},
   "source": [
    "## Analyze data"
   ]
  },
  {
   "cell_type": "markdown",
   "metadata": {},
   "source": [
    "Firstly, we compare how many users checked in at businesses reviewed by popular users and how many users checked in at other businesses."
   ]
  },
  {
   "cell_type": "code",
   "execution_count": 9,
   "metadata": {},
   "outputs": [
    {
     "data": {
      "text/html": [
       "<div>\n",
       "<style>\n",
       "    .dataframe thead tr:only-child th {\n",
       "        text-align: right;\n",
       "    }\n",
       "\n",
       "    .dataframe thead th {\n",
       "        text-align: left;\n",
       "    }\n",
       "\n",
       "    .dataframe tbody tr th {\n",
       "        vertical-align: top;\n",
       "    }\n",
       "</style>\n",
       "<table border=\"1\" class=\"dataframe\">\n",
       "  <thead>\n",
       "    <tr style=\"text-align: right;\">\n",
       "      <th></th>\n",
       "      <th>avg(checkin_count)</th>\n",
       "    </tr>\n",
       "  </thead>\n",
       "  <tbody>\n",
       "    <tr>\n",
       "      <th>0</th>\n",
       "      <td>202.0821</td>\n",
       "    </tr>\n",
       "  </tbody>\n",
       "</table>\n",
       "</div>"
      ],
      "text/plain": [
       "   avg(checkin_count)\n",
       "0            202.0821"
      ]
     },
     "execution_count": 9,
     "metadata": {},
     "output_type": "execute_result"
    }
   ],
   "source": [
    "pd.read_sql(\n",
    "    '''\n",
    "    select avg(checkin_count)\n",
    "    from \n",
    "    (select sum(checkin.count) as checkin_count\n",
    "    from checkin\n",
    "    where checkin.business_id in\n",
    "    (select business_id from review where user_id in\n",
    "    (select id from user where fans >= 27))\n",
    "    group by checkin.business_id) as a\n",
    "    ;\n",
    "    ''', con=db)"
   ]
  },
  {
   "cell_type": "code",
   "execution_count": 10,
   "metadata": {},
   "outputs": [
    {
     "data": {
      "text/html": [
       "<div>\n",
       "<style>\n",
       "    .dataframe thead tr:only-child th {\n",
       "        text-align: right;\n",
       "    }\n",
       "\n",
       "    .dataframe thead th {\n",
       "        text-align: left;\n",
       "    }\n",
       "\n",
       "    .dataframe tbody tr th {\n",
       "        vertical-align: top;\n",
       "    }\n",
       "</style>\n",
       "<table border=\"1\" class=\"dataframe\">\n",
       "  <thead>\n",
       "    <tr style=\"text-align: right;\">\n",
       "      <th></th>\n",
       "      <th>avg(checkin_count)</th>\n",
       "    </tr>\n",
       "  </thead>\n",
       "  <tbody>\n",
       "    <tr>\n",
       "      <th>0</th>\n",
       "      <td>18.0776</td>\n",
       "    </tr>\n",
       "  </tbody>\n",
       "</table>\n",
       "</div>"
      ],
      "text/plain": [
       "   avg(checkin_count)\n",
       "0             18.0776"
      ]
     },
     "execution_count": 10,
     "metadata": {},
     "output_type": "execute_result"
    }
   ],
   "source": [
    "pd.read_sql(\n",
    "    '''\n",
    "    select avg(checkin_count)\n",
    "    from \n",
    "    (select sum(checkin.count) as checkin_count\n",
    "    from checkin\n",
    "    where checkin.business_id not in\n",
    "    (select business_id from review where user_id in\n",
    "    (select id from user where fans >= 27))\n",
    "    group by checkin.business_id) as a\n",
    "    ;\n",
    "    ''', con=db)"
   ]
  },
  {
   "cell_type": "markdown",
   "metadata": {},
   "source": [
    "* This result shows a strong association between the popularity of businesses (as measured by Yelp user checkins) and whether they are reviewed by popular users. \n",
    " "
   ]
  },
  {
   "cell_type": "markdown",
   "metadata": {},
   "source": [
    "---"
   ]
  },
  {
   "cell_type": "markdown",
   "metadata": {},
   "source": [
    "## Then we explored the characteristics of popular users compared to all others. "
   ]
  },
  {
   "cell_type": "markdown",
   "metadata": {},
   "source": [
    "\n",
    "### Question 1: Do popular users write more reviews and more tips than other users?"
   ]
  },
  {
   "cell_type": "markdown",
   "metadata": {},
   "source": [
    "* We compute and plot the average number of reviews and tips for all users, popular and not popular to see the difference between them."
   ]
  },
  {
   "cell_type": "markdown",
   "metadata": {},
   "source": [
    "### Reviews"
   ]
  },
  {
   "cell_type": "code",
   "execution_count": 7,
   "metadata": {
    "scrolled": true
   },
   "outputs": [
    {
     "data": {
      "text/plain": [
       "23.7269"
      ]
     },
     "execution_count": 7,
     "metadata": {},
     "output_type": "execute_result"
    }
   ],
   "source": [
    "sql = '''\n",
    "    SELECT AVG(review_count) FROM user \n",
    "      '''\n",
    "cur.execute(sql)\n",
    "# if we run cur.fetchall(), what we get would be a tuple\n",
    "# therefore, we change the typle to float so that we could plot the number\n",
    "all_review_count=float(cur.fetchall()[0][0])\n",
    "all_review_count"
   ]
  },
  {
   "cell_type": "code",
   "execution_count": 8,
   "metadata": {},
   "outputs": [
    {
     "data": {
      "text/plain": [
       "486.7096"
      ]
     },
     "execution_count": 8,
     "metadata": {},
     "output_type": "execute_result"
    }
   ],
   "source": [
    "sql = '''\n",
    "    SELECT AVG(review_count) FROM user \n",
    "    WHERE fans>=27;   \n",
    "      '''\n",
    "cur.execute(sql)\n",
    "\n",
    "popular_review_count=float(cur.fetchall()[0][0])\n",
    "popular_review_count"
   ]
  },
  {
   "cell_type": "code",
   "execution_count": 9,
   "metadata": {},
   "outputs": [
    {
     "data": {
      "text/plain": [
       "18.8412"
      ]
     },
     "execution_count": 9,
     "metadata": {},
     "output_type": "execute_result"
    }
   ],
   "source": [
    "sql = '''\n",
    "      SELECT AVG(review_count) FROM user \n",
    "      WHERE fans<27;   \n",
    "      '''\n",
    "cur.execute(sql)\n",
    "\n",
    "nonpopular_review_count=float(cur.fetchall()[0][0])\n",
    "nonpopular_review_count"
   ]
  },
  {
   "cell_type": "code",
   "execution_count": 11,
   "metadata": {
    "collapsed": true
   },
   "outputs": [],
   "source": [
    "x=['pop','non-pop','all']\n",
    "y=[popular_review_count,nonpopular_review_count,all_review_count]"
   ]
  },
  {
   "cell_type": "code",
   "execution_count": 12,
   "metadata": {
    "scrolled": true
   },
   "outputs": [
    {
     "data": {
      "image/png": "[encoded data removed]",
      "text/plain": [
       "<matplotlib.figure.Figure at 0x11165df98>"
      ]
     },
     "metadata": {},
     "output_type": "display_data"
    }
   ],
   "source": [
    "plt.style.use(\"ggplot\")\n",
    "plt.bar(x,y)\n",
    "plt.xlabel(\"user\")\n",
    "plt.ylabel(\"review_count\")\n",
    "plt.grid(True)"
   ]
  },
  {
   "cell_type": "markdown",
   "metadata": {},
   "source": [
    "### Tips"
   ]
  },
  {
   "cell_type": "code",
   "execution_count": 13,
   "metadata": {},
   "outputs": [
    {
     "data": {
      "text/plain": [
       "23.4437"
      ]
     },
     "execution_count": 13,
     "metadata": {},
     "output_type": "execute_result"
    }
   ],
   "source": [
    "sql = '''\n",
    "      SELECT AVG(tip_count) FROM (\n",
    "      SELECT user_id, count(user_id) AS tip_count,fans AS popularity FROM tip,user \n",
    "      WHERE user_id=id \n",
    "      GROUP by user_id) as tiptip\n",
    "      WHERE popularity>=27; \n",
    "      '''\n",
    "cur.execute(sql)\n",
    "\n",
    "popular_tip_count=float(cur.fetchall()[0][0])\n",
    "popular_tip_count"
   ]
  },
  {
   "cell_type": "code",
   "execution_count": 14,
   "metadata": {},
   "outputs": [
    {
     "data": {
      "text/plain": [
       "3.7475"
      ]
     },
     "execution_count": 14,
     "metadata": {},
     "output_type": "execute_result"
    }
   ],
   "source": [
    "sql = '''\n",
    "      SELECT AVG(tip_count) FROM (\n",
    "      SELECT user_id, count(user_id) AS tip_count,fans AS popularity FROM tip,user \n",
    "      WHERE user_id=id \n",
    "      GROUP by user_id) as tiptip\n",
    "      WHERE popularity<27; \n",
    "      '''\n",
    "cur.execute(sql)\n",
    "\n",
    "nonpopular_tip_count=float(cur.fetchall()[0][0])\n",
    "nonpopular_tip_count"
   ]
  },
  {
   "cell_type": "code",
   "execution_count": 15,
   "metadata": {},
   "outputs": [
    {
     "data": {
      "text/plain": [
       "4.2055"
      ]
     },
     "execution_count": 15,
     "metadata": {},
     "output_type": "execute_result"
    }
   ],
   "source": [
    "sql = '''\n",
    "      SELECT AVG(tip_count) FROM (\n",
    "      SELECT user_id, count(user_id) AS tip_count,fans AS popularity FROM tip,user \n",
    "      WHERE user_id=id \n",
    "      GROUP by user_id) as tiptip; \n",
    "      '''\n",
    "cur.execute(sql)\n",
    "\n",
    "all_tip_count=float(cur.fetchall()[0][0])\n",
    "all_tip_count"
   ]
  },
  {
   "cell_type": "code",
   "execution_count": 16,
   "metadata": {
    "collapsed": true
   },
   "outputs": [],
   "source": [
    "x=['pop','non-pop','all']\n",
    "y=[popular_tip_count,nonpopular_tip_count,all_tip_count]"
   ]
  },
  {
   "cell_type": "code",
   "execution_count": 17,
   "metadata": {},
   "outputs": [
    {
     "data": {
      "image/png": "[encoded data removed]",
      "text/plain": [
       "<matplotlib.figure.Figure at 0x11165d8d0>"
      ]
     },
     "metadata": {},
     "output_type": "display_data"
    }
   ],
   "source": [
    "plt.style.use(\"ggplot\")\n",
    "plt.bar(x,y)\n",
    "plt.xlabel(\"user\")\n",
    "plt.ylabel(\"tip_count\")\n",
    "plt.grid(True)"
   ]
  },
  {
   "cell_type": "markdown",
   "metadata": {},
   "source": [
    "* As expected, we find that popular users have posted more than 25 times as many reviews as other users and roughly 6 times as many tips as others, on average. In other words, the popular users that we define appear to be much more active than other users in terms of posting reviews and tips. "
   ]
  },
  {
   "cell_type": "markdown",
   "metadata": {},
   "source": [
    "### Question 2:  Do popular users write longer (more detailed) reviews than other users?"
   ]
  },
  {
   "cell_type": "markdown",
   "metadata": {},
   "source": [
    "* We count total words / total reviews written by popular users."
   ]
  },
  {
   "cell_type": "code",
   "execution_count": 10,
   "metadata": {
    "collapsed": true
   },
   "outputs": [],
   "source": [
    "popular_review=pd.read_sql(\n",
    "    '''\n",
    "    SELECT user.id, review.text\n",
    "    FROM review\n",
    "    JOIN user\n",
    "    ON review.user_id=user.id\n",
    "    WHERE user.fans >= 27\n",
    "    ''', con=db)"
   ]
  },
  {
   "cell_type": "code",
   "execution_count": 11,
   "metadata": {},
   "outputs": [
    {
     "name": "stdout",
     "output_type": "stream",
     "text": [
      "Average word count per review of popular users is: 182.36881699184983\n"
     ]
    }
   ],
   "source": [
    "popular_wordcount = 0\n",
    "popular_reviewcount = 0\n",
    "for content in popular_review.text:\n",
    "    popular_reviewcount += 1\n",
    "    for word in content.split():\n",
    "        popular_wordcount += 1\n",
    "print(\"Average word count per review of popular users is:\",popular_wordcount/popular_reviewcount)"
   ]
  },
  {
   "cell_type": "markdown",
   "metadata": {},
   "source": [
    "* We compare this to total words / total reviews by other users."
   ]
  },
  {
   "cell_type": "code",
   "execution_count": 12,
   "metadata": {
    "collapsed": true
   },
   "outputs": [],
   "source": [
    "nonpopular_review=pd.read_sql(\n",
    "    '''\n",
    "    SELECT user.id, review.text\n",
    "    FROM review\n",
    "    JOIN user\n",
    "    ON review.user_id=user.id\n",
    "    WHERE user.fans < 27\n",
    "    ''', con=db)"
   ]
  },
  {
   "cell_type": "code",
   "execution_count": 13,
   "metadata": {},
   "outputs": [
    {
     "name": "stdout",
     "output_type": "stream",
     "text": [
      "Average word count per review of non popular users is: 108.2166561980537\n"
     ]
    }
   ],
   "source": [
    "nonpopular_wordcount = 0\n",
    "nonpopular_reviewcount = 0\n",
    "for content in nonpopular_review.text:\n",
    "    nonpopular_reviewcount += 1\n",
    "    for word in content.split():\n",
    "        nonpopular_wordcount += 1\n",
    "print(\"Average word count per review of non popular users is:\",nonpopular_wordcount/nonpopular_reviewcount)"
   ]
  },
  {
   "cell_type": "markdown",
   "metadata": {},
   "source": [
    "* After analyzing the length of reviews, we find that the reviews posted by popular users are, on average, nearly 70% more words than reviews by others. This indicates that, the popular users may tend to go into greater detail than others when writing a review, so that their reviews might contain more useful information and are more likely to influence behaviors of other users."
   ]
  },
  {
   "cell_type": "markdown",
   "metadata": {},
   "source": [
    "### Question 3: Do popular users have more friends than other users?"
   ]
  },
  {
   "cell_type": "markdown",
   "metadata": {},
   "source": [
    "* We compute and plot the average number of friends for all users, popular and not popular to see the difference."
   ]
  },
  {
   "cell_type": "code",
   "execution_count": 17,
   "metadata": {
    "scrolled": true
   },
   "outputs": [
    {
     "data": {
      "text/plain": [
       "58.9965"
      ]
     },
     "execution_count": 17,
     "metadata": {},
     "output_type": "execute_result"
    }
   ],
   "source": [
    "sql = '''\n",
    "      SELECT AVG(friend_count) FROM (\n",
    "      SELECT user_id, count(user_id) AS friend_count,fans AS popularity FROM friend,user \n",
    "      WHERE user_id=id \n",
    "      GROUP by user_id) \n",
    "      AS friendf;\n",
    "      '''\n",
    "cur.execute(sql)\n",
    "avg_friend_count=float(cur.fetchall()[0][0])\n",
    "avg_friend_count"
   ]
  },
  {
   "cell_type": "code",
   "execution_count": 18,
   "metadata": {},
   "outputs": [
    {
     "data": {
      "text/plain": [
       "624.6199"
      ]
     },
     "execution_count": 18,
     "metadata": {},
     "output_type": "execute_result"
    }
   ],
   "source": [
    "sql = '''\n",
    "      SELECT AVG(friend_count) FROM (\n",
    "      SELECT user_id, count(user_id) AS friend_count,fans AS popularity FROM friend,user \n",
    "      WHERE user_id=id \n",
    "      GROUP by user_id) \n",
    "      AS friendf\n",
    "      WHERE popularity>=27; \n",
    "      '''\n",
    "cur.execute(sql)\n",
    "pop_friend_count=float(cur.fetchall()[0][0])\n",
    "pop_friend_count"
   ]
  },
  {
   "cell_type": "code",
   "execution_count": 19,
   "metadata": {},
   "outputs": [
    {
     "data": {
      "text/plain": [
       "48.6212"
      ]
     },
     "execution_count": 19,
     "metadata": {},
     "output_type": "execute_result"
    }
   ],
   "source": [
    "sql = '''\n",
    "      SELECT AVG(friend_count) FROM (\n",
    "      SELECT user_id, count(user_id) AS friend_count,fans AS popularity FROM friend,user \n",
    "      WHERE user_id=id \n",
    "      GROUP by user_id) \n",
    "      AS friendf\n",
    "      WHERE popularity<27; \n",
    "      '''\n",
    "cur.execute(sql)\n",
    "\n",
    "nonpop_friend_count=float(cur.fetchall()[0][0])\n",
    "nonpop_friend_count"
   ]
  },
  {
   "cell_type": "code",
   "execution_count": 20,
   "metadata": {
    "collapsed": true
   },
   "outputs": [],
   "source": [
    "x=['pop','non-pop','all']\n",
    "y=[pop_friend_count,nonpop_friend_count,avg_friend_count]"
   ]
  },
  {
   "cell_type": "code",
   "execution_count": 21,
   "metadata": {},
   "outputs": [
    {
     "data": {
      "image/png": "[encoded data removed]",
      "text/plain": [
       "<matplotlib.figure.Figure at 0x1156be550>"
      ]
     },
     "metadata": {},
     "output_type": "display_data"
    }
   ],
   "source": [
    "plt.style.use(\"ggplot\")\n",
    "plt.bar(x,y)\n",
    "plt.xlabel(\"user\")\n",
    "plt.ylabel(\"friend_count\")\n",
    "plt.grid(True)"
   ]
  },
  {
   "cell_type": "markdown",
   "metadata": {},
   "source": [
    "* The results show that popular users have about 625 friends on average, which is almost 13 times of the number of other users. With a larger number of friends, popular users might have a relatively stable social circle on yelp, which could make their activities such as checking in a restaurant and posting a review easily exposed to more other yelp users."
   ]
  },
  {
   "cell_type": "markdown",
   "metadata": {},
   "source": [
    "### Question 4: Are reviews by popular users more effective or influential than those by others?\n",
    "* Here we operationalize effectiveness or influence by the number of 'Useful', 'Cool', 'Funny' or 'Fan' tags received per review. These influence scores are reported for popular and other users for comparison."
   ]
  },
  {
   "cell_type": "code",
   "execution_count": 5,
   "metadata": {},
   "outputs": [
    {
     "data": {
      "text/html": [
       "<div>\n",
       "<style>\n",
       "    .dataframe thead tr:only-child th {\n",
       "        text-align: right;\n",
       "    }\n",
       "\n",
       "    .dataframe thead th {\n",
       "        text-align: left;\n",
       "    }\n",
       "\n",
       "    .dataframe tbody tr th {\n",
       "        vertical-align: top;\n",
       "    }\n",
       "</style>\n",
       "<table border=\"1\" class=\"dataframe\">\n",
       "  <thead>\n",
       "    <tr style=\"text-align: right;\">\n",
       "      <th></th>\n",
       "      <th>useful_gain_per_review</th>\n",
       "      <th>cool_gain_per_review</th>\n",
       "      <th>funny_gain_per_review</th>\n",
       "    </tr>\n",
       "  </thead>\n",
       "  <tbody>\n",
       "    <tr>\n",
       "      <th>0</th>\n",
       "      <td>3.8067</td>\n",
       "      <td>3.2228</td>\n",
       "      <td>2.2481</td>\n",
       "    </tr>\n",
       "  </tbody>\n",
       "</table>\n",
       "</div>"
      ],
      "text/plain": [
       "   useful_gain_per_review  cool_gain_per_review  funny_gain_per_review\n",
       "0                  3.8067                3.2228                 2.2481"
      ]
     },
     "execution_count": 5,
     "metadata": {},
     "output_type": "execute_result"
    }
   ],
   "source": [
    "popular_influence=pd.read_sql(\n",
    "    '''\n",
    "    select sum(useful)/sum(review_count) as useful_gain_per_review, \n",
    "    sum(cool)/sum(review_count) as cool_gain_per_review,\n",
    "    sum(funny)/sum(review_count) as funny_gain_per_review\n",
    "    from user \n",
    "    where fans>= 27;\n",
    "    ''', con=db)\n",
    "popular_influence"
   ]
  },
  {
   "cell_type": "code",
   "execution_count": 6,
   "metadata": {},
   "outputs": [
    {
     "data": {
      "text/html": [
       "<div>\n",
       "<style>\n",
       "    .dataframe thead tr:only-child th {\n",
       "        text-align: right;\n",
       "    }\n",
       "\n",
       "    .dataframe thead th {\n",
       "        text-align: left;\n",
       "    }\n",
       "\n",
       "    .dataframe tbody tr th {\n",
       "        vertical-align: top;\n",
       "    }\n",
       "</style>\n",
       "<table border=\"1\" class=\"dataframe\">\n",
       "  <thead>\n",
       "    <tr style=\"text-align: right;\">\n",
       "      <th></th>\n",
       "      <th>useful_gain_per_review</th>\n",
       "      <th>cool_gain_per_review</th>\n",
       "      <th>funny_gain_per_review</th>\n",
       "    </tr>\n",
       "  </thead>\n",
       "  <tbody>\n",
       "    <tr>\n",
       "      <th>0</th>\n",
       "      <td>0.5872</td>\n",
       "      <td>0.2115</td>\n",
       "      <td>0.2055</td>\n",
       "    </tr>\n",
       "  </tbody>\n",
       "</table>\n",
       "</div>"
      ],
      "text/plain": [
       "   useful_gain_per_review  cool_gain_per_review  funny_gain_per_review\n",
       "0                  0.5872                0.2115                 0.2055"
      ]
     },
     "execution_count": 6,
     "metadata": {},
     "output_type": "execute_result"
    }
   ],
   "source": [
    "nonpopular_influence=pd.read_sql(\n",
    "    '''\n",
    "    select sum(useful)/sum(review_count) as useful_gain_per_review, \n",
    "    sum(cool)/sum(review_count) as cool_gain_per_review,\n",
    "    sum(funny)/sum(review_count) as funny_gain_per_review\n",
    "    from user \n",
    "    where fans < 27;\n",
    "    ''', con=db)\n",
    "nonpopular_influence"
   ]
  },
  {
   "cell_type": "code",
   "execution_count": 7,
   "metadata": {},
   "outputs": [
    {
     "data": {
      "text/html": [
       "<div>\n",
       "<style>\n",
       "    .dataframe thead tr:only-child th {\n",
       "        text-align: right;\n",
       "    }\n",
       "\n",
       "    .dataframe thead th {\n",
       "        text-align: left;\n",
       "    }\n",
       "\n",
       "    .dataframe tbody tr th {\n",
       "        vertical-align: top;\n",
       "    }\n",
       "</style>\n",
       "<table border=\"1\" class=\"dataframe\">\n",
       "  <thead>\n",
       "    <tr style=\"text-align: right;\">\n",
       "      <th></th>\n",
       "      <th>useful_gain_per_review</th>\n",
       "      <th>cool_gain_per_review</th>\n",
       "      <th>funny_gain_per_review</th>\n",
       "    </tr>\n",
       "  </thead>\n",
       "  <tbody>\n",
       "    <tr>\n",
       "      <th>0</th>\n",
       "      <td>3.8067</td>\n",
       "      <td>3.2228</td>\n",
       "      <td>2.2481</td>\n",
       "    </tr>\n",
       "    <tr>\n",
       "      <th>0</th>\n",
       "      <td>0.5872</td>\n",
       "      <td>0.2115</td>\n",
       "      <td>0.2055</td>\n",
       "    </tr>\n",
       "  </tbody>\n",
       "</table>\n",
       "</div>"
      ],
      "text/plain": [
       "   useful_gain_per_review  cool_gain_per_review  funny_gain_per_review\n",
       "0                  3.8067                3.2228                 2.2481\n",
       "0                  0.5872                0.2115                 0.2055"
      ]
     },
     "execution_count": 7,
     "metadata": {},
     "output_type": "execute_result"
    }
   ],
   "source": [
    "# we combine two data frames, so that we can plot them.\n",
    "result = pd.concat([popular_influence,nonpopular_influence])\n",
    "result"
   ]
  },
  {
   "cell_type": "code",
   "execution_count": 8,
   "metadata": {
    "scrolled": true
   },
   "outputs": [
    {
     "data": {
      "image/png": "[encoded data removed]",
      "text/plain": [
       "<matplotlib.figure.Figure at 0x1142d9be0>"
      ]
     },
     "metadata": {},
     "output_type": "display_data"
    }
   ],
   "source": [
    "pos = list(range(len(result.iloc[0,]))) \n",
    "width = 0.25 \n",
    "# Plot the bars\n",
    "fig, ax = plt.subplots(figsize=(10,5))\n",
    "plt.bar(pos, \n",
    "        result.iloc[0,], \n",
    "        width, \n",
    "        alpha=0.5)\n",
    "\n",
    "plt.bar([p + width for p in pos] ,\n",
    "        result.iloc[1,],\n",
    "        width, \n",
    "        alpha=0.5) \n",
    "\n",
    "# Set the labels and tile\n",
    "ax.set_ylabel('influence per review')\n",
    "ax.set_xticklabels(['useful_gain','cool_gain','funny_gain','fans_gain'])\n",
    "ax.set_title('Influence Comparison')\n",
    "\n",
    "# Set the position of the x ticks\n",
    "ax.set_xticks([p + 0.5 * width for p in pos ])\n",
    "\n",
    "\n",
    "# Setting the limits for x-axis and y-axis\n",
    "plt.xlim(min(pos)-width, max(pos)+width*2)\n",
    "plt.ylim([0, 4])\n",
    "\n",
    "plt.legend(['Popular user', 'Nonpopular user'], loc='upper right')\n",
    "plt.grid()\n",
    "plt.show()"
   ]
  },
  {
   "cell_type": "markdown",
   "metadata": {},
   "source": [
    "* In terms of tags received per review published, the popular users are much more effective than other users receiving 6 times as many ‘useful’ tags, 15 times as many ‘cool’ tags and 11 times as many ‘funny’ tags as other reviewers. This indicates that, the reviews posted by popular users are in much higher quality and are more convincing, so that these reviews might be more likely to have real effect on others."
   ]
  },
  {
   "cell_type": "markdown",
   "metadata": {},
   "source": [
    "### Question 5: Are popular users more likely to be selected by Yelp as elite users?"
   ]
  },
  {
   "cell_type": "markdown",
   "metadata": {},
   "source": [
    "* We compute and plot the average number of years that Yelp awarded elite status to all users, popular and not popular."
   ]
  },
  {
   "cell_type": "code",
   "execution_count": 4,
   "metadata": {},
   "outputs": [
    {
     "data": {
      "text/plain": [
       "3.2174"
      ]
     },
     "execution_count": 4,
     "metadata": {},
     "output_type": "execute_result"
    }
   ],
   "source": [
    "sql = '''\n",
    "      SELECT AVG(year_count) FROM (\n",
    "      SELECT user_id,count(user_id) AS year_count,fans AS popularity FROM elite_years,user \n",
    "      WHERE user_id=id \n",
    "      GROUP BY user_id) AS yy;\n",
    "      '''\n",
    "cur.execute(sql)\n",
    "\n",
    "avg_year_count=float(cur.fetchall()[0][0])\n",
    "avg_year_count"
   ]
  },
  {
   "cell_type": "code",
   "execution_count": 5,
   "metadata": {},
   "outputs": [
    {
     "data": {
      "text/plain": [
       "5.2561"
      ]
     },
     "execution_count": 5,
     "metadata": {},
     "output_type": "execute_result"
    }
   ],
   "source": [
    "sql = '''\n",
    "      SELECT AVG(year_count) FROM (\n",
    "      SELECT user_id,count(user_id) AS year_count,fans AS popularity FROM elite_years,user \n",
    "      WHERE user_id=id \n",
    "      GROUP BY user_id) AS yy\n",
    "      WHERE popularity>=27;\n",
    "      '''\n",
    "cur.execute(sql)\n",
    "\n",
    "pop_year_count=float(cur.fetchall()[0][0])\n",
    "pop_year_count"
   ]
  },
  {
   "cell_type": "code",
   "execution_count": 6,
   "metadata": {},
   "outputs": [
    {
     "data": {
      "text/plain": [
       "2.717"
      ]
     },
     "execution_count": 6,
     "metadata": {},
     "output_type": "execute_result"
    }
   ],
   "source": [
    "sql = '''\n",
    "      SELECT AVG(year_count) FROM (\n",
    "      SELECT user_id,count(user_id) AS year_count,fans AS popularity FROM elite_years,user \n",
    "      WHERE user_id=id \n",
    "      GROUP BY user_id) AS yy\n",
    "      WHERE popularity<27;\n",
    "      '''\n",
    "cur.execute(sql)\n",
    "\n",
    "nonpop_year_count=float(cur.fetchall()[0][0])\n",
    "nonpop_year_count"
   ]
  },
  {
   "cell_type": "code",
   "execution_count": 7,
   "metadata": {
    "collapsed": true
   },
   "outputs": [],
   "source": [
    "x=['pop','non-pop','all']\n",
    "y=[pop_year_count,nonpop_year_count,avg_year_count]"
   ]
  },
  {
   "cell_type": "code",
   "execution_count": 8,
   "metadata": {
    "scrolled": true
   },
   "outputs": [
    {
     "data": {
      "image/png": "[encoded data removed]",
      "text/plain": [
       "<matplotlib.figure.Figure at 0x10cc63b00>"
      ]
     },
     "metadata": {},
     "output_type": "display_data"
    }
   ],
   "source": [
    "plt.style.use(\"ggplot\")\n",
    "plt.bar(x,y)\n",
    "plt.xlabel(\"user\")\n",
    "plt.ylabel(\"year_count\")\n",
    "plt.grid(True)"
   ]
  },
  {
   "cell_type": "markdown",
   "metadata": {},
   "source": [
    "* From the result above, our popular users are twice as likely to be selected by Yelp as elite users as all the others. On average, our popular users were selected to be elite for 5.2561 years while the others were on average selected for 2.717 years. This indicates that Yelp did a good job in recognizing those users who attracted other users by writing popular reviews. However, after researching Yelp’s elite rewarding system, we believed that Yelp may loosen its criteria of rewarding users. In the current rewarding system, only after being elite for more than 5 years can a user gain a Gold Elite Badge; for a Black Elite Badge a user has to be an elite for more than 10 years. As shown by our research, our popular users had on average been elites for about 5 years, which means most of them were either normal elites or gold badge holders. Given that those popular users were in the top 1 percentile of all the users, Yelp’s elite reward system has an excessively strict upgrading rule."
   ]
  },
  {
   "cell_type": "markdown",
   "metadata": {},
   "source": [
    "---"
   ]
  },
  {
   "cell_type": "markdown",
   "metadata": {},
   "source": [
    "## conclusion"
   ]
  },
  {
   "cell_type": "markdown",
   "metadata": {},
   "source": [
    "* In general, Yelp did a good job in recognizing those popular users. However, we didn’t find out whether all the popular users were selected to be elites to find out whether all the major contributors were recognized by elite rewarding system. We could have evaluated the elite system more holistically if we had fuller access to Yelp data.\n",
    "\n",
    "* In sum, even with a very simple measure of popularity, the ‘popular’ users in the Yelp dataset appear to be much more influential than others. It may be that they are better writers or that they have simply been on the platform longer than others. But the end result is the same: a small set of users appear to be setting the tone on this crowd-based platform."
   ]
  }
 ],
 "metadata": {
  "kernelspec": {
   "display_name": "Python 3",
   "language": "python",
   "name": "python3"
  },
  "language_info": {
   "codemirror_mode": {
    "name": "ipython",
    "version": 3
   },
   "file_extension": ".py",
   "mimetype": "text/x-python",
   "name": "python",
   "nbconvert_exporter": "python",
   "pygments_lexer": "ipython3",
   "version": "3.6.3"
  }
 },
 "nbformat": 4,
 "nbformat_minor": 2
}
